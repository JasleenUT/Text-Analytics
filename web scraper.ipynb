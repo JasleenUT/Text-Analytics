{
 "cells": [
  {
   "cell_type": "code",
   "execution_count": 15,
   "metadata": {},
   "outputs": [],
   "source": [
    "# Building a web scraper\n",
    "\n",
    "# Download chromedriver webdriver:\n",
    "# http://chromedriver.chromium.org/downloads\n",
    "# download the latest version from this link\n",
    "\n",
    "# You can also use firefox or phantomJS, chromedriver has the best developer tools\n",
    "# Extract the downloaded file on your local machine"
   ]
  },
  {
   "cell_type": "code",
   "execution_count": null,
   "metadata": {},
   "outputs": [],
   "source": [
    "# Install selenium using pip or conda\n",
    "!pip install selenium"
   ]
  },
  {
   "cell_type": "code",
   "execution_count": 16,
   "metadata": {},
   "outputs": [],
   "source": [
    "# Import webdriver from selenium\n",
    "from selenium import webdriver\n",
    "chrome_path = r'/Users/jasleenarora/Desktop/setups/chromedriver'\n",
    "# prepend it with r because of the backslash characters"
   ]
  },
  {
   "cell_type": "code",
   "execution_count": 17,
   "metadata": {},
   "outputs": [],
   "source": [
    "driver = webdriver.Chrome(chrome_path)  # This will open up a chrome window"
   ]
  },
  {
   "cell_type": "code",
   "execution_count": 18,
   "metadata": {},
   "outputs": [],
   "source": [
    "# Take a website that you want to scrape\n",
    "driver.get(\"https://vancouver.craigslist.ca\")  # It will send you to that website"
   ]
  },
  {
   "cell_type": "code",
   "execution_count": 21,
   "metadata": {},
   "outputs": [],
   "source": [
    "# Now write click on the element that you want to search and click on inspect.\n",
    "# It will open the developer tools\n",
    "\n",
    "# right-click on the html element and copy xpath\n",
    "driver.find_element_by_xpath(\"\"\"//*[@id=\"sss0\"]/li[23]/a/span\"\"\").click()"
   ]
  },
  {
   "cell_type": "code",
   "execution_count": 27,
   "metadata": {},
   "outputs": [],
   "source": [
    "posts = driver.find_elements_by_class_name('hdrlnk')"
   ]
  },
  {
   "cell_type": "code",
   "execution_count": 28,
   "metadata": {},
   "outputs": [
    {
     "name": "stdout",
     "output_type": "stream",
     "text": [
      "Texas Instruments TI-84 Silver Edition Graphing Calculator Texas\n",
      "Samsung LN46B610A5F LCD TV - Replacement AV Board and Remote\n",
      "Travel Foldable Desk Alarm Clock with Calendar Alarm Day Temperature\n",
      "Brand New, Factory Sealed Logitech Harmony RF Wireless Extender C-RE4A\n",
      "Brand New, In Box Channel Plus LPF-750 Low Pass Filter\n",
      "Brand New Dell U2417H, P2217, P2317H Monitor Stand\n",
      "ViewSonic 42\" LCD TV - 1080P\n",
      "iPad 3 (3rd generation), White 16gb, great condition\n",
      "Sennheiser GSX 1200 Pro Gaming Audio Amplifier BNIB\n",
      "Polk Floor standing speakers RT600i\n",
      "MacBook Pro 13\" 256ssd 2015\n",
      "Klipsch speakers\n",
      "SAMSUNG 50\" SMART TV\n",
      "HDTV 3DTV 2K/4K HDMI to HDMI Gold Plated Video Cable 6 Feet 2 Meter\n",
      "LG 47' LED 1080p TV\n",
      "Heavy Duty HDMI Cable Male to Male 28AWG with Ferrite Core 10M 30 Feet\n",
      "Sennheiser CX 7.00BT Wireless In-Ear Bluetooth Headphone BNIB\n",
      "Beats solo2 Wireless headphones (BNIB)\n",
      "Asus RT-AC55U Dual-band Router\n",
      "Studio monitors\n",
      "Google home Brand New\n",
      "4PCs New 80AMP 80A Car AGU Glass Fuse For Car Audio Fuse Power Block\n",
      "brother multi-scanner MFC-255-CW color\n",
      "Toslink Optical Fiber Audio Splitter 1 to 2 Cable Adapter Dual Output\n",
      "LG 24MP68VQ-P Full HD IPS Monitor 24\" Screen\n",
      "Sennheiser CX 6.0 BT Wireless Headphones BNIB\n",
      "90 Degree HDMI Cable Female to A Male Gold Plated Down Angled Adapter\n",
      "Toshiba flat tv 32\"\n",
      "D7000 + 18-105mm + 35mm 1.8\n",
      "Electronics\n",
      "Texas Instrument TI-83 Plus\n",
      "2 X Premium 6\"x9\" Car Speakers With Box Made In USA\n",
      "Barely used TI-84 Plus Silver Edition\n",
      "Apple USB 2.0 Cable\n",
      "Qnix 2k QHD Mint 2560x1440p Computer Monitor\n",
      "1080p 3DTV 2K/4K HDMI 24K Gold Plated Cable for PS3 xBox HDTV 10FT 3M\n",
      "Logitech LS21 2.1 Stereo Speaker System\n",
      "Raspberry PI3b+\n",
      "D-Link DIR-655 Xtreme N Gigabit Router\n",
      "Texas Instruments TI-83 Plus Graphing Calculator\n",
      "8g iPhone 5s\n",
      "Alfa Network (AWUS036H) Long-Range Wireless Adapter\n",
      "Sky Viper Stunt Drone Spare Parts Motors Frame Props Mainboards\n",
      "Sony WH-1000 XM2\n",
      "Creative Labs Soundworks SUBWOOFER Wooden Box Non-Powered\n",
      "2018 IPHONE 6S 7S 8S CRACKED SCREEN COVER FIX TEMPERED GLASS PROTECTOR\n",
      "NEW Brother HL-L6200DW Wireless Duplex Monochrome Laser Printer\n",
      "Verbatim Store'n' Go V3 Max USB 3.0 Flash Hard Drive, 128GB, Blue\n",
      "Nintendo Wii Classic Controller\n",
      "Media player HIFi Berry Digi+\n",
      "AFTERMARKET Charger Charging Cable Lightning For Apple Iphone\n",
      "Definitive Technology Symphony 1 Wireless Headphone\n",
      "Lexmark colour printrio p3150\n",
      "Heating temperature controller board New\n",
      "iPad Air Logitech Keyboard\n",
      "Netgear Nighthawk AC1900 Router\n",
      "Bose 5.1 Home Entertainment Speakers\n",
      "Stanton 890SA Cartridge (new) for Playing Vinyl\n",
      "Bose SoundLink Air (aux only)\n",
      "Audioquest SureGrip100 BFA/Banana (Beryllium-Copper) Set of 8\n",
      "Electronics\n",
      "Like New Linksys EA6350 AC1200+ Wifi Router\n",
      "Panasonic 42\" plasma HDTV\n",
      "parrot BEBOP 2 FPV BRAND NEW in box\n",
      "Satellite Equipment - LNB - DiSEqC - Serial Cables - Coaxial Cables\n",
      "Netmedia digital video modulators obo\n",
      "Foscam FI8910 wireless IP camera Pan/Tilt IR\n",
      "SONY STR D711 receiver and remote control vg cond\n",
      "New CB Antenna\n",
      "Samsung tab E LTE 8\" model SM- T377W for sale\n",
      "Camera bag For sale\n",
      "Ultimate Ears BLAST Waterproof Wifi/Bluetooth Speaker w/ Amazon Alexa\n",
      "White iPad Mini 2\n",
      "1000g x 0.1g Jewelry Coin Grain Gram Herb Pocket Size Digital Scale\n",
      "Beats solo 3 wireless headphones for sale\n",
      "Casio EXilim EX-TR600 camera for sale\n",
      "Toshiba tv/vcr unit\n",
      "IPod case in black\n",
      "Audioquest SureGrip 100 Multi-Spade Purple Copper\n",
      "Realistic mini speakers\n",
      "CB Fiberglas whips\n",
      "Magellan Maestro 4210 GPS\n",
      "Vtech cordless home phone\n",
      "Beats By Dr.dre\n",
      "50FT 8GA 8AWG CCA Red Power Cable Wire Heat Resistance Car Audio Roll\n",
      "Akai UC-5\n",
      "Samsung 55\" TV with wall mount bracket\n",
      "iPhone 6 64GB Gold Unlocked\n",
      "Sansui au 7700\n",
      " Sony Camcorder Battery NP55\n",
      "Magellan Maestro 4210 GPS\n",
      "Sony Walkman WM-FX195\n",
      "Sansui system\n",
      "Digital Display Breathalyzer Alcohol Tester Analyzer Audible Alert\n",
      "Audioquest Evergreen 3.5mm to RCA Cable 0.6m\n",
      "IPad 2 16GB\n",
      "Sport Waterproof Sweat Proof Weatherproof Headphones Ear buds (Black)\n",
      " Sony Handy Cam DCR-SR200\n",
      "DVD Player - x 2 - Pioneer & Sony - $20 for 2\n",
      "Samsung Blu Ray Disc Player 1080P HD Wifi TV Multimedia USB & Remote_\n",
      "Motorola Bluetooth Flip Mic Over Ear Headset_Silver Black+Flip Charger\n",
      "Apple Watch Series 3 Nike+ 42mm + 2 free watch bands\n",
      "Audioquest Evergreen RCA to RCA Cable 2m\n",
      "2Pc RJ45 Connector Coupler Extension Broadband Ethernet Network Cable\n",
      "Playstation 3 80gb (black)\n",
      "iPhone 7 Plus GOLD 128GB\n",
      "Shaw cable box\n",
      "Audioquest Evergreen RCA to RCA Cable 1m\n",
      "Panasonic EUR642170 Audio System Remote Control\n",
      "Playstation 3, 8 games, 2 controllers\n",
      "Battery Alligator Clamp Auto Power Cigarette Lighter Car Socket Plug\n",
      "I pad 4 for part\n",
      "LG LCD TV - 39\"\n",
      "Vick air purifiers\n",
      "Digital Toslink Coax Coaxial Optical to Analog Audio R/L RCA Converter\n",
      "Brand New ! 1More Triple Driver In-Ear Headphones\n",
      "Black Iphone 5 Mophie Battery Case\n",
      "Xantrex XC5012 Multibank Battery Charger 12V 50A\n",
      "Heart Interface AGS Remote AutoGenStart Remote 84-2057-02\n",
      "Hearth Interface AutoGenStart Controller 900253 P/N 84-7002-01\n"
     ]
    }
   ],
   "source": [
    "for post in posts:\n",
    "    print(post.text)"
   ]
  },
  {
   "cell_type": "code",
   "execution_count": null,
   "metadata": {},
   "outputs": [],
   "source": []
  }
 ],
 "metadata": {
  "kernelspec": {
   "display_name": "Python [conda env:anaconda3]",
   "language": "python",
   "name": "conda-env-anaconda3-py"
  },
  "language_info": {
   "codemirror_mode": {
    "name": "ipython",
    "version": 3
   },
   "file_extension": ".py",
   "mimetype": "text/x-python",
   "name": "python",
   "nbconvert_exporter": "python",
   "pygments_lexer": "ipython3",
   "version": "3.6.4"
  }
 },
 "nbformat": 4,
 "nbformat_minor": 2
}
